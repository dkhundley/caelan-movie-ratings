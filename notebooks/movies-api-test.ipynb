{
 "cells": [
  {
   "cell_type": "code",
   "execution_count": 1,
   "metadata": {},
   "outputs": [],
   "source": [
    "from rotten_tomatoes_client import RottenTomatoesClient\n",
    "from imdb import IMDb"
   ]
  },
  {
   "cell_type": "code",
   "execution_count": 2,
   "metadata": {},
   "outputs": [],
   "source": [
    "ia = IMDb()"
   ]
  },
  {
   "cell_type": "code",
   "execution_count": 3,
   "metadata": {},
   "outputs": [],
   "source": [
    "the_matrix = ia.get_movie('0133093')"
   ]
  },
  {
   "cell_type": "code",
   "execution_count": 23,
   "metadata": {},
   "outputs": [],
   "source": [
    "imdb_movie = ia.search_movie('The Matrix')"
   ]
  },
  {
   "cell_type": "code",
   "execution_count": 25,
   "metadata": {},
   "outputs": [
    {
     "data": {
      "text/plain": [
       "<Movie id:0133093[http] title:_The Matrix (1999)_>"
      ]
     },
     "execution_count": 25,
     "metadata": {},
     "output_type": "execute_result"
    }
   ],
   "source": [
    "imdb_movie[0]"
   ]
  },
  {
   "cell_type": "code",
   "execution_count": 26,
   "metadata": {},
   "outputs": [
    {
     "data": {
      "text/plain": [
       "'The Matrix'"
      ]
     },
     "execution_count": 26,
     "metadata": {},
     "output_type": "execute_result"
    }
   ],
   "source": [
    "imdb_movie[0]['title']"
   ]
  },
  {
   "cell_type": "code",
   "execution_count": 30,
   "metadata": {},
   "outputs": [
    {
     "data": {
      "text/plain": [
       "<Movie id:0133093[http] title:_The Matrix (1999)_>"
      ]
     },
     "execution_count": 30,
     "metadata": {},
     "output_type": "execute_result"
    }
   ],
   "source": [
    "imdb_movie[0]"
   ]
  },
  {
   "cell_type": "code",
   "execution_count": 5,
   "metadata": {},
   "outputs": [
    {
     "data": {
      "text/plain": [
       "<Movie id:0133093[http] title:_The Matrix (1999)_>"
      ]
     },
     "execution_count": 5,
     "metadata": {},
     "output_type": "execute_result"
    }
   ],
   "source": [
    "the_matrix"
   ]
  },
  {
   "cell_type": "code",
   "execution_count": 4,
   "metadata": {},
   "outputs": [],
   "source": [
    "result = RottenTomatoesClient.search(term=\"Indiana Jones\", limit=1)"
   ]
  },
  {
   "cell_type": "code",
   "execution_count": 5,
   "metadata": {},
   "outputs": [
    {
     "data": {
      "text/plain": [
       "{'actorCount': 0,\n",
       " 'actors': [],\n",
       " 'criticCount': 0,\n",
       " 'critics': [],\n",
       " 'franchiseCount': 1,\n",
       " 'franchises': [{'title': 'Indiana Jones',\n",
       "   'url': '/franchise/indiana_jones',\n",
       "   'image': 'https://resizing.flixster.com/Qu6zacox89z-AkXRR25pIekcs0s=/fit-in/80x80/v1.bjsxNDMzNTI2O2o7MTg4MjY7MTIwMDs2MDA7MjYy'}],\n",
       " 'movieCount': 32,\n",
       " 'movies': [{'name': 'Indiana Jones and the Kingdom of the Crystal Skull',\n",
       "   'year': 2008,\n",
       "   'url': '/m/indiana_jones_and_the_kingdom_of_the_crystal_skull',\n",
       "   'image': 'https://resizing.flixster.com/LCbQs9bZWv_FKyLW8jC8gFy2Ttw=/fit-in/80x80/v1.bTsxMTIxODUxNztqOzE4ODk0OzEyMDA7MTAxMTsxMzQ4',\n",
       "   'meterClass': 'certified_fresh',\n",
       "   'meterScore': 78,\n",
       "   'castItems': [{'name': 'Harrison Ford', 'url': '/celebrity/harrison_ford'},\n",
       "    {'name': 'Shia LaBeouf', 'url': '/celebrity/shia_labeouf'},\n",
       "    {'name': 'Cate Blanchett', 'url': '/celebrity/cate_blanchett'}],\n",
       "   'subline': 'Harrison Ford, Shia LaBeouf, Cate Blanchett, '}],\n",
       " 'tvCount': 1,\n",
       " 'tvSeries': [{'title': 'The Young Indiana Jones Chronicles',\n",
       "   'startYear': 1992,\n",
       "   'endYear': 1993,\n",
       "   'url': '/tv/the_young_indiana_jones_chronicles',\n",
       "   'meterClass': 'fresh',\n",
       "   'meterScore': 77,\n",
       "   'image': 'https://resizing.flixster.com/oMOcOmcnIYTvErrgRSLoBNu_Mbw=/fit-in/80x80/v1.dDsyNzY4NDA7ajsxODgxMzsxMjAwOzY2Njs5OTk'}]}"
      ]
     },
     "execution_count": 5,
     "metadata": {},
     "output_type": "execute_result"
    }
   ],
   "source": [
    "result"
   ]
  },
  {
   "cell_type": "code",
   "execution_count": null,
   "metadata": {},
   "outputs": [],
   "source": []
  }
 ],
 "metadata": {
  "kernelspec": {
   "display_name": "Python 3",
   "language": "python",
   "name": "python3"
  },
  "language_info": {
   "codemirror_mode": {
    "name": "ipython",
    "version": 3
   },
   "file_extension": ".py",
   "mimetype": "text/x-python",
   "name": "python",
   "nbconvert_exporter": "python",
   "pygments_lexer": "ipython3",
   "version": "3.6.6+"
  }
 },
 "nbformat": 4,
 "nbformat_minor": 2
}
